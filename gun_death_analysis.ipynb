{
 "cells": [
  {
   "cell_type": "markdown",
   "metadata": {},
   "source": [
    "<h1>Analyzing Gun Deaths in the United States (2012–2014)</h1>"
   ]
  },
  {
   "cell_type": "markdown",
   "metadata": {},
   "source": [
    "This study analyzes gun deaths in the United States of America between\n",
    "2012 and 2014.\n",
    "   #####  This case study will try to answer the following questions:\n",
    "    • What is the number of annual suicide gun deaths in the United States from 2012 to 2014, by gender?\n",
    "    • What is the number of gun deaths by race in the United States per 100,000 people from 2012 to 2014?\n",
    "    • What is the annual number of gun deaths in the United States on average from 2012 to 2014, by cause?\n",
    "    • What is the percentage per 100,000 people of annual gun deaths in the United States from 2012 to 2014,by\n",
    "      cause?\n",
    "    • What is the percentage of annual suicide gun deaths in the United States from 2012 to 2014, by year?"
   ]
  },
  {
   "cell_type": "code",
   "execution_count": 159,
   "metadata": {},
   "outputs": [],
   "source": [
    "import pandas as pd\n",
    "import matplotlib.pyplot as plt\n",
    "import seaborn as sns\n",
    "sns.set(context='notebook',style='darkgrid', color_codes=True, palette='deep', font_scale=1)\n",
    "%matplotlib inline"
   ]
  },
  {
   "cell_type": "markdown",
   "metadata": {},
   "source": [
    "### Import Dataset"
   ]
  },
  {
   "cell_type": "code",
   "execution_count": 160,
   "metadata": {},
   "outputs": [
    {
     "name": "stdout",
     "output_type": "stream",
     "text": [
      "(100798, 10)\n"
     ]
    },
    {
     "data": {
      "text/html": [
       "<div>\n",
       "<style scoped>\n",
       "    .dataframe tbody tr th:only-of-type {\n",
       "        vertical-align: middle;\n",
       "    }\n",
       "\n",
       "    .dataframe tbody tr th {\n",
       "        vertical-align: top;\n",
       "    }\n",
       "\n",
       "    .dataframe thead th {\n",
       "        text-align: right;\n",
       "    }\n",
       "</style>\n",
       "<table border=\"1\" class=\"dataframe\">\n",
       "  <thead>\n",
       "    <tr style=\"text-align: right;\">\n",
       "      <th></th>\n",
       "      <th>Year</th>\n",
       "      <th>Month</th>\n",
       "      <th>Intent</th>\n",
       "      <th>Police</th>\n",
       "      <th>Sex</th>\n",
       "      <th>Age</th>\n",
       "      <th>Race</th>\n",
       "      <th>Hispanic</th>\n",
       "      <th>Place</th>\n",
       "      <th>Education</th>\n",
       "    </tr>\n",
       "  </thead>\n",
       "  <tbody>\n",
       "    <tr>\n",
       "      <th>1</th>\n",
       "      <td>2012</td>\n",
       "      <td>1</td>\n",
       "      <td>Suicide</td>\n",
       "      <td>0</td>\n",
       "      <td>M</td>\n",
       "      <td>34.0</td>\n",
       "      <td>Asian/Pacific Islander</td>\n",
       "      <td>100</td>\n",
       "      <td>Home</td>\n",
       "      <td>BA+</td>\n",
       "    </tr>\n",
       "    <tr>\n",
       "      <th>2</th>\n",
       "      <td>2012</td>\n",
       "      <td>1</td>\n",
       "      <td>Suicide</td>\n",
       "      <td>0</td>\n",
       "      <td>F</td>\n",
       "      <td>21.0</td>\n",
       "      <td>White</td>\n",
       "      <td>100</td>\n",
       "      <td>Street</td>\n",
       "      <td>Some college</td>\n",
       "    </tr>\n",
       "    <tr>\n",
       "      <th>3</th>\n",
       "      <td>2012</td>\n",
       "      <td>1</td>\n",
       "      <td>Suicide</td>\n",
       "      <td>0</td>\n",
       "      <td>M</td>\n",
       "      <td>60.0</td>\n",
       "      <td>White</td>\n",
       "      <td>100</td>\n",
       "      <td>Other specified</td>\n",
       "      <td>BA+</td>\n",
       "    </tr>\n",
       "    <tr>\n",
       "      <th>4</th>\n",
       "      <td>2012</td>\n",
       "      <td>2</td>\n",
       "      <td>Suicide</td>\n",
       "      <td>0</td>\n",
       "      <td>M</td>\n",
       "      <td>64.0</td>\n",
       "      <td>White</td>\n",
       "      <td>100</td>\n",
       "      <td>Home</td>\n",
       "      <td>BA+</td>\n",
       "    </tr>\n",
       "    <tr>\n",
       "      <th>5</th>\n",
       "      <td>2012</td>\n",
       "      <td>2</td>\n",
       "      <td>Suicide</td>\n",
       "      <td>0</td>\n",
       "      <td>M</td>\n",
       "      <td>31.0</td>\n",
       "      <td>White</td>\n",
       "      <td>100</td>\n",
       "      <td>Other specified</td>\n",
       "      <td>HS/GED</td>\n",
       "    </tr>\n",
       "  </tbody>\n",
       "</table>\n",
       "</div>"
      ],
      "text/plain": [
       "   Year  Month   Intent  Police Sex   Age                    Race  Hispanic  \\\n",
       "1  2012      1  Suicide       0   M  34.0  Asian/Pacific Islander       100   \n",
       "2  2012      1  Suicide       0   F  21.0                   White       100   \n",
       "3  2012      1  Suicide       0   M  60.0                   White       100   \n",
       "4  2012      2  Suicide       0   M  64.0                   White       100   \n",
       "5  2012      2  Suicide       0   M  31.0                   White       100   \n",
       "\n",
       "             Place     Education  \n",
       "1             Home           BA+  \n",
       "2           Street  Some college  \n",
       "3  Other specified           BA+  \n",
       "4             Home           BA+  \n",
       "5  Other specified        HS/GED  "
      ]
     },
     "execution_count": 160,
     "metadata": {},
     "output_type": "execute_result"
    }
   ],
   "source": [
    "dataset = pd.read_csv('data/guns-data.csv', index_col=0)\n",
    "dataset.index_name='index'\n",
    "dataset.columns = map(str.capitalize, dataset.columns)\n",
    "print(dataset.shape)\n",
    "dataset.head()"
   ]
  },
  {
   "cell_type": "markdown",
   "metadata": {},
   "source": [
    "#### Organize the dataset by year and month"
   ]
  },
  {
   "cell_type": "code",
   "execution_count": 161,
   "metadata": {},
   "outputs": [],
   "source": [
    "dataset_gun = dataset\n",
    "dataset_gun.sort_values(['Year', 'Month'], inplace=True)\n"
   ]
  },
  {
   "cell_type": "markdown",
   "metadata": {},
   "source": [
    "# Analysis"
   ]
  },
  {
   "cell_type": "markdown",
   "metadata": {},
   "source": [
    "How many males and females are included in this\n",
    "study?"
   ]
  },
  {
   "cell_type": "code",
   "execution_count": 162,
   "metadata": {},
   "outputs": [
    {
     "data": {
      "text/plain": [
       "M    86349\n",
       "F    14449\n",
       "Name: Sex, dtype: int64"
      ]
     },
     "execution_count": 162,
     "metadata": {},
     "output_type": "execute_result"
    }
   ],
   "source": [
    "dataset_gun.Sex.value_counts(normalize=False)"
   ]
  },
  {
   "cell_type": "markdown",
   "metadata": {},
   "source": [
    "How many educated females are included in this\n",
    "study?"
   ]
  },
  {
   "cell_type": "code",
   "execution_count": 163,
   "metadata": {},
   "outputs": [
    {
     "data": {
      "text/plain": [
       "Sex\n",
       "F    14243\n",
       "M    85133\n",
       "Name: Education, dtype: int64"
      ]
     },
     "execution_count": 163,
     "metadata": {},
     "output_type": "execute_result"
    }
   ],
   "source": [
    "data_byGender = dataset_gun.groupby('Sex').count()\n",
    "data_byGender['Education']"
   ]
  },
  {
   "cell_type": "markdown",
   "metadata": {},
   "source": [
    "# Data Visualization"
   ]
  },
  {
   "cell_type": "markdown",
   "metadata": {},
   "source": [
    "### Q1. What is the number of suicide gun deaths in the United States from 2012 to 2014, by gender?"
   ]
  },
  {
   "cell_type": "code",
   "execution_count": 164,
   "metadata": {},
   "outputs": [
    {
     "data": {
      "text/plain": [
       "M    54486\n",
       "F     8689\n",
       "Name: Sex, dtype: int64"
      ]
     },
     "execution_count": 164,
     "metadata": {},
     "output_type": "execute_result"
    }
   ],
   "source": [
    "suicideDeath_byGender = dataset_gun[dataset_gun['Intent']=='Suicide']\n",
    "gunDeath_byGender = suicideDeath_byGender['Sex'].value_counts()\n",
    "gunDeath_byGender"
   ]
  },
  {
   "cell_type": "code",
   "execution_count": 165,
   "metadata": {},
   "outputs": [
    {
     "data": {
      "text/plain": [
       "Text(0.5, 0, 'Sex')"
      ]
     },
     "execution_count": 165,
     "metadata": {},
     "output_type": "execute_result"
    },
    {
     "data": {
      "image/png": "[encoded data removed]",
      "text/plain": [
       "<Figure size 432x288 with 1 Axes>"
      ]
     },
     "metadata": {
      "needs_background": "light"
     },
     "output_type": "display_data"
    }
   ],
   "source": [
    "gunDeath_byGender.plot.bar(title='Annual U.S.\\\\suicide gun deaths \\n 2012-2014, by gender')\n",
    "plt.xlabel('Sex')"
   ]
  },
  {
   "cell_type": "code",
   "execution_count": 166,
   "metadata": {},
   "outputs": [
    {
     "data": {
      "text/plain": [
       "<matplotlib.axes._subplots.AxesSubplot at 0x7f8e5a0fb610>"
      ]
     },
     "execution_count": 166,
     "metadata": {},
     "output_type": "execute_result"
    },
    {
     "data": {
      "image/png": "[encoded data removed]",
      "text/plain": [
       "<Figure size 432x288 with 1 Axes>"
      ]
     },
     "metadata": {
      "needs_background": "light"
     },
     "output_type": "display_data"
    }
   ],
   "source": [
    "data_byGender.plot.bar(title='Annual U.S. suicide gun deaths \\n 2012-2014, by gender')"
   ]
  },
  {
   "cell_type": "markdown",
   "metadata": {},
   "source": [
    "### Q2. What is the number of gun deaths by race in the United States per 100,000 people from 2012 to 2014?"
   ]
  },
  {
   "cell_type": "code",
   "execution_count": 167,
   "metadata": {},
   "outputs": [
    {
     "data": {
      "text/plain": [
       "White                             66.237\n",
       "Black                             23.296\n",
       "Hispanic                           9.022\n",
       "Asian/Pacific Islander             1.326\n",
       "Native American/Native Alaskan     0.917\n",
       "Name: Race, dtype: float64"
      ]
     },
     "execution_count": 167,
     "metadata": {},
     "output_type": "execute_result"
    }
   ],
   "source": [
    "#death_byRace = dataset.groupby('Race')\n",
    "#death_byRace['Race'].count()*100/100000\n",
    "dataset_byRace = dataset\n",
    "(dataset_byRace.Race.value_counts(ascending=False)*100/100000)"
   ]
  },
  {
   "cell_type": "code",
   "execution_count": 168,
   "metadata": {},
   "outputs": [
    {
     "data": {
      "text/plain": [
       "<matplotlib.axes._subplots.AxesSubplot at 0x7f8e5a0a6b50>"
      ]
     },
     "execution_count": 168,
     "metadata": {},
     "output_type": "execute_result"
    },
    {
     "data": {
      "image/png": "[encoded data removed]",
      "text/plain": [
       "<Figure size 432x288 with 1 Axes>"
      ]
     },
     "metadata": {
      "needs_background": "light"
     },
     "output_type": "display_data"
    }
   ],
   "source": [
    "(dataset_byRace.Race.value_counts(ascending=False)*100/100000).plot.bar( title='Percent death toll from guns in the United States \\nfrom 2012 to 2014, by race')"
   ]
  },
  {
   "cell_type": "markdown",
   "metadata": {},
   "source": [
    "### Q3 What is the number of gun deaths in the United States on average from 2012 to 2014, by cause?"
   ]
  },
  {
   "cell_type": "code",
   "execution_count": 169,
   "metadata": {},
   "outputs": [
    {
     "data": {
      "text/plain": [
       "Suicide         63175\n",
       "Homicide        35176\n",
       "Accidental       1639\n",
       "Undetermined      807\n",
       "Name: Intent, dtype: int64"
      ]
     },
     "execution_count": 169,
     "metadata": {},
     "output_type": "execute_result"
    }
   ],
   "source": [
    "dataset_byRace['Intent'].value_counts(sort=True, ascending=False)"
   ]
  },
  {
   "cell_type": "code",
   "execution_count": 170,
   "metadata": {},
   "outputs": [
    {
     "data": {
      "text/plain": [
       "Text(0.5, 0, 'Causes')"
      ]
     },
     "execution_count": 170,
     "metadata": {},
     "output_type": "execute_result"
    },
    {
     "data": {
      "image/png": "[encoded data removed]",
      "text/plain": [
       "<Figure size 432x288 with 1 Axes>"
      ]
     },
     "metadata": {
      "needs_background": "light"
     },
     "output_type": "display_data"
    }
   ],
   "source": [
    "dataset_byRace['Intent'].value_counts(sort=True, ascending=False).plot.bar(title = 'Annual number of gun deaths in the United States on average \\n from 2012 to 2014, by causes')\n",
    "plt.xlabel('Causes')"
   ]
  },
  {
   "cell_type": "code",
   "execution_count": 171,
   "metadata": {},
   "outputs": [
    {
     "data": {
      "text/html": [
       "<div>\n",
       "<style scoped>\n",
       "    .dataframe tbody tr th:only-of-type {\n",
       "        vertical-align: middle;\n",
       "    }\n",
       "\n",
       "    .dataframe tbody tr th {\n",
       "        vertical-align: top;\n",
       "    }\n",
       "\n",
       "    .dataframe thead th {\n",
       "        text-align: right;\n",
       "    }\n",
       "</style>\n",
       "<table border=\"1\" class=\"dataframe\">\n",
       "  <thead>\n",
       "    <tr style=\"text-align: right;\">\n",
       "      <th></th>\n",
       "      <th>Year</th>\n",
       "      <th>Month</th>\n",
       "      <th>Police</th>\n",
       "      <th>Age</th>\n",
       "      <th>Hispanic</th>\n",
       "    </tr>\n",
       "    <tr>\n",
       "      <th>Intent</th>\n",
       "      <th></th>\n",
       "      <th></th>\n",
       "      <th></th>\n",
       "      <th></th>\n",
       "      <th></th>\n",
       "    </tr>\n",
       "  </thead>\n",
       "  <tbody>\n",
       "    <tr>\n",
       "      <th>Accidental</th>\n",
       "      <td>2013.023185</td>\n",
       "      <td>6.761440</td>\n",
       "      <td>0.000000</td>\n",
       "      <td>38.043346</td>\n",
       "      <td>114.102502</td>\n",
       "    </tr>\n",
       "    <tr>\n",
       "      <th>Homicide</th>\n",
       "      <td>2012.980555</td>\n",
       "      <td>6.687031</td>\n",
       "      <td>0.039857</td>\n",
       "      <td>32.620212</td>\n",
       "      <td>122.787241</td>\n",
       "    </tr>\n",
       "    <tr>\n",
       "      <th>Suicide</th>\n",
       "      <td>2013.010574</td>\n",
       "      <td>6.497032</td>\n",
       "      <td>0.000000</td>\n",
       "      <td>50.310917</td>\n",
       "      <td>109.342002</td>\n",
       "    </tr>\n",
       "    <tr>\n",
       "      <th>Undetermined</th>\n",
       "      <td>2013.017348</td>\n",
       "      <td>6.495663</td>\n",
       "      <td>0.000000</td>\n",
       "      <td>40.238213</td>\n",
       "      <td>117.864932</td>\n",
       "    </tr>\n",
       "  </tbody>\n",
       "</table>\n",
       "</div>"
      ],
      "text/plain": [
       "                     Year     Month    Police        Age    Hispanic\n",
       "Intent                                                              \n",
       "Accidental    2013.023185  6.761440  0.000000  38.043346  114.102502\n",
       "Homicide      2012.980555  6.687031  0.039857  32.620212  122.787241\n",
       "Suicide       2013.010574  6.497032  0.000000  50.310917  109.342002\n",
       "Undetermined  2013.017348  6.495663  0.000000  40.238213  117.864932"
      ]
     },
     "execution_count": 171,
     "metadata": {},
     "output_type": "execute_result"
    }
   ],
   "source": [
    "dataset.groupby('Intent').mean()"
   ]
  },
  {
   "cell_type": "markdown",
   "metadata": {},
   "source": [
    "### Q4 What is the percentage per 100,000 people of annual gun deaths in the United States from 2012 to 2014, by cause?"
   ]
  },
  {
   "cell_type": "code",
   "execution_count": 172,
   "metadata": {},
   "outputs": [
    {
     "data": {
      "text/plain": [
       "Suicide         63.175\n",
       "Homicide        35.176\n",
       "Accidental       1.639\n",
       "Undetermined     0.807\n",
       "Name: Intent, dtype: float64"
      ]
     },
     "execution_count": 172,
     "metadata": {},
     "output_type": "execute_result"
    }
   ],
   "source": [
    "dataset_byRace['Intent'].value_counts(ascending=False)*100/100000"
   ]
  },
  {
   "cell_type": "code",
   "execution_count": 173,
   "metadata": {},
   "outputs": [
    {
     "data": {
      "text/plain": [
       "<matplotlib.axes._subplots.AxesSubplot at 0x7f8e59f7f610>"
      ]
     },
     "execution_count": 173,
     "metadata": {},
     "output_type": "execute_result"
    },
    {
     "data": {
      "image/png": "[encoded data removed]",
      "text/plain": [
       "<Figure size 432x288 with 1 Axes>"
      ]
     },
     "metadata": {
      "needs_background": "light"
     },
     "output_type": "display_data"
    }
   ],
   "source": [
    "(dataset_byRace.Intent.value_counts(ascending=False)\n",
    "*100/100000).plot.bar(title='Rate gun deaths in the U.S. per 100,000 population \\n2012-2014, by race')"
   ]
  },
  {
   "cell_type": "markdown",
   "metadata": {},
   "source": [
    "### Q5 What is the percentage of suicide gun deaths in the United States from 2012 to 2014, by year?"
   ]
  },
  {
   "cell_type": "code",
   "execution_count": 174,
   "metadata": {},
   "outputs": [
    {
     "data": {
      "text/plain": [
       "2012    20.666\n",
       "2013    21.175\n",
       "2014    21.334\n",
       "Name: Year, dtype: float64"
      ]
     },
     "execution_count": 174,
     "metadata": {},
     "output_type": "execute_result"
    }
   ],
   "source": [
    "dataset_suicide = dataset[ dataset[\"Intent\"]==\"Suicide\"]\n",
    "datasetSuicide= dataset_suicide.Year.value_counts(ascending=False) *100/100000\n",
    "datasetSuicide.sort_values(ascending=True)"
   ]
  },
  {
   "cell_type": "code",
   "execution_count": 175,
   "metadata": {},
   "outputs": [
    {
     "data": {
      "text/plain": [
       "<matplotlib.axes._subplots.AxesSubplot at 0x7f8e59f631d0>"
      ]
     },
     "execution_count": 175,
     "metadata": {},
     "output_type": "execute_result"
    },
    {
     "data": {
      "image/png": "[encoded data removed]",
      "text/plain": [
       "<Figure size 432x288 with 1 Axes>"
      ]
     },
     "metadata": {
      "needs_background": "light"
     },
     "output_type": "display_data"
    }
   ],
   "source": [
    "datasetSuicide.sort_values(ascending=True).plot.bar(title='Percentage of annual suicide gun deaths in theUnited States \\nfrom 2012 to 2014, by year')"
   ]
  },
  {
   "cell_type": "markdown",
   "metadata": {},
   "source": [
    "# Findings"
   ]
  },
  {
   "cell_type": "markdown",
   "metadata": {},
   "source": [
    "1. Male suicide gun deaths is over50,000, while females suicide gundeaths is below 10,000, which showshow        males are more likely to commit suicide with a gun.\n",
    "2. The highest number of deaths is for white people, then black, and then Hispanic.\n",
    "3. There is a high number of suicide and homicide deaths compared to a low number of deaths due to accidents.\n",
    "4. The 100,000 percentages shows that there are 60 suicide cases for every 100,000 people, which somehow is      not a high rate. In addition, there are 30 homicide cases for every 100,000 people.\n",
    "5. The analysis shows almost the same number of suicides each year over a period of three years, which means      that this is a regular pattern in society."
   ]
  },
  {
   "cell_type": "code",
   "execution_count": null,
   "metadata": {},
   "outputs": [],
   "source": []
  }
 ],
 "metadata": {
  "kernelspec": {
   "display_name": "Python 3",
   "language": "python",
   "name": "python3"
  },
  "language_info": {
   "codemirror_mode": {
    "name": "ipython",
    "version": 3
   },
   "file_extension": ".py",
   "mimetype": "text/x-python",
   "name": "python",
   "nbconvert_exporter": "python",
   "pygments_lexer": "ipython3",
   "version": "3.7.6"
  }
 },
 "nbformat": 4,
 "nbformat_minor": 4
}
